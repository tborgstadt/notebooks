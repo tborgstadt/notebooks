{
 "cells": [
  {
   "cell_type": "markdown",
   "metadata": {},
   "source": [
    "### Final Project\n",
    "<b>Tom Borgstadt</b></br>\n",
    "<br>BUS 6316S Advanced Topics</br>\n",
    "<br>Summer 2016</br>\n",
    "<br>Portfolio Efficient Frontier<br>"
   ]
  },
  {
   "cell_type": "code",
   "execution_count": 1,
   "metadata": {
    "collapsed": true
   },
   "outputs": [],
   "source": [
    "import numpy as np\n",
    "import matplotlib.pyplot as plt\n",
    "%matplotlib inline\n",
    "\n",
    "import cvxopt as opt\n",
    "from cvxopt import blas, solvers, matrix\n",
    "import pandas as pd\n",
    "\n",
    "np.random.seed(123)\n",
    "\n",
    "# Turn off progress printing \n",
    "solvers.options['show_progress'] = False\n",
    "\n",
    "# from pandas_datareader import data, wb\n",
    "import pandas_datareader.data as web"
   ]
  },
  {
   "cell_type": "code",
   "execution_count": 5,
   "metadata": {
    "collapsed": false
   },
   "outputs": [
    {
     "name": "stdout",
     "output_type": "stream",
     "text": [
      "             Adj Close\n",
      "Date                  \n",
      "2015-06-30  201.481434\n",
      "2015-07-31  206.032745\n",
      "2015-08-31  193.475023\n",
      "2015-09-30  188.538322\n",
      "2015-10-30  204.575332\n",
      "2015-11-30  205.323080\n",
      "2015-12-31  201.774586\n",
      "2016-01-29  191.728915\n",
      "2016-02-29  191.570556\n",
      "2016-03-31  204.456746\n",
      "2016-04-29  205.262553\n",
      "2016-05-31  208.754388\n",
      "2016-06-30  209.479996\n",
      "2016-07-29  209.919998\n",
      "            Adj Close\n",
      "Date                 \n",
      "2015-06-30  42.680000\n",
      "2015-07-31  41.639999\n",
      "2015-08-31  44.099998\n",
      "2015-09-30  45.020000\n",
      "2015-10-30  41.400002\n",
      "2015-11-30  41.180000\n",
      "2015-12-31  41.740002\n",
      "2016-01-29  43.799999\n",
      "2016-02-29  43.700001\n",
      "2016-03-31  40.820000\n",
      "2016-04-29  40.619999\n",
      "2016-05-31  39.860001\n",
      "2016-06-30  39.660000\n",
      "2016-07-29  39.570000\n",
      "             Adj Close\n",
      "Date                  \n",
      "2015-06-30  269.483208\n",
      "2015-07-31  269.769241\n",
      "2015-08-31  254.489987\n",
      "2015-09-30  246.351048\n",
      "2015-10-30  260.030061\n",
      "2015-11-30  263.504265\n",
      "2015-12-31  252.444379\n",
      "2016-01-29  238.462760\n",
      "2016-02-29  241.414106\n",
      "2016-03-31  261.894159\n",
      "2016-04-29  265.014325\n",
      "2016-05-31  270.965560\n",
      "2016-06-30  272.230011\n",
      "2016-07-29  272.779999\n",
      "             Adj Close\n",
      "Date                  \n",
      "2015-06-30  119.096259\n",
      "2015-07-31  118.753100\n",
      "2015-08-31  111.831060\n",
      "2015-09-30  106.757016\n",
      "2015-10-30  112.819277\n",
      "2015-11-30  114.846617\n",
      "2015-12-31  110.037643\n",
      "2016-01-29  101.733105\n",
      "2016-02-29  102.518805\n",
      "2016-03-31  111.195304\n",
      "2016-04-29  113.160098\n",
      "2016-05-31  115.294441\n",
      "2016-06-30  115.680000\n",
      "2016-07-29  116.029999\n",
      "            Adj Close\n",
      "Date                 \n",
      "2015-06-30  47.155173\n",
      "2015-07-31  47.019196\n",
      "2015-08-31  43.376932\n",
      "2015-09-30  41.628159\n",
      "2015-10-30  44.411180\n",
      "2015-11-30  43.825282\n",
      "2015-12-31  42.721889\n",
      "2016-01-29  40.330408\n",
      "2016-02-29  39.346259\n",
      "2016-03-31  42.613158\n",
      "2016-04-29  43.511836\n",
      "2016-05-31  43.166188\n",
      "2016-06-30  42.849998\n",
      "2016-07-29  42.980000\n",
      "             Adj Close\n",
      "Date                  \n",
      "2015-06-30  105.679650\n",
      "2015-07-31  106.590785\n",
      "2015-08-31  106.232837\n",
      "2015-09-30  107.094840\n",
      "2015-10-30  107.168271\n",
      "2015-11-30  106.751312\n",
      "2015-12-31  106.546662\n",
      "2016-01-29  107.868503\n",
      "2016-02-29  108.825379\n",
      "2016-03-31  109.777259\n",
      "2016-04-29  110.057135\n",
      "2016-05-31  110.072050\n",
      "2016-06-30  112.202125\n",
      "2016-07-29  112.443679\n",
      "             Adj Close\n",
      "Date                  \n",
      "2015-06-30  129.865611\n",
      "2015-07-31  133.109425\n",
      "2015-08-31  132.396544\n",
      "2015-09-30  134.822677\n",
      "2015-10-30  133.775785\n",
      "2015-11-30  133.244487\n",
      "2015-12-31  132.763146\n",
      "2016-01-29  137.679553\n",
      "2016-02-29  140.236791\n",
      "2016-03-31  140.418378\n",
      "2016-04-29  139.889702\n",
      "2016-05-31  140.296798\n",
      "2016-06-30  146.166398\n",
      "2016-07-29  147.196900\n",
      "            Adj Close\n",
      "Date                 \n",
      "2015-06-30  81.209760\n",
      "2015-07-31  86.012287\n",
      "2015-08-31  80.930655\n",
      "2015-09-30  83.670438\n",
      "2015-10-30  88.515697\n",
      "2015-11-30  87.971936\n",
      "2015-12-31  89.907821\n",
      "2016-01-29  86.257744\n",
      "2016-02-29  85.521841\n",
      "2016-03-31  94.380764\n",
      "2016-04-29  91.583562\n",
      "2016-05-31  93.398769\n",
      "2016-06-30  99.430000\n",
      "2016-07-29  99.559998\n",
      "             Adj Close\n",
      "Date                  \n",
      "2015-06-30  112.370003\n",
      "2015-07-31  104.930000\n",
      "2015-08-31  108.820000\n",
      "2015-09-30  106.860001\n",
      "2015-10-30  109.300003\n",
      "2015-11-30  101.919998\n",
      "2015-12-31  101.459999\n",
      "2016-01-29  106.949997\n",
      "2016-02-29  118.639999\n",
      "2016-03-31  117.639999\n",
      "2016-04-29  123.650002\n",
      "2016-05-31  116.059998\n",
      "2016-06-30  126.470001\n",
      "2016-07-29  128.410004\n",
      "\n",
      "                 SPY        SH       MDY        VB       VEU       AGG  \\\n",
      "Date                                                                     \n",
      "2015-07-31  0.022589 -0.024367  0.001061 -0.002881 -0.002884  0.008622   \n",
      "2015-08-31 -0.060950  0.059078 -0.056638 -0.058289 -0.077463 -0.003358   \n",
      "2015-09-30 -0.025516  0.020862 -0.031981 -0.045372 -0.040316  0.008114   \n",
      "2015-10-30  0.085060 -0.080409  0.055527  0.056786  0.066854  0.000686   \n",
      "2015-11-30  0.003655 -0.005314  0.013361  0.017970 -0.013193 -0.003891   \n",
      "2015-12-31 -0.017282  0.013599 -0.041972 -0.041873 -0.025177 -0.001917   \n",
      "2016-01-29 -0.049787  0.049353 -0.055385 -0.075470 -0.055978  0.012406   \n",
      "2016-02-29 -0.000826 -0.002283  0.012377  0.007723 -0.024402  0.008871   \n",
      "2016-03-31  0.067266 -0.065904  0.084834  0.084633  0.083029  0.008747   \n",
      "2016-04-29  0.003941 -0.004900  0.011914  0.017670  0.021089  0.002549   \n",
      "2016-05-31  0.017012 -0.018710  0.022456  0.018861 -0.007944  0.000136   \n",
      "2016-06-30  0.003476 -0.005018  0.004666  0.003344 -0.007325  0.019352   \n",
      "2016-07-29  0.002100 -0.002269  0.002020  0.003026  0.003034  0.002153   \n",
      "\n",
      "                 TLH       RWR       GLD  \n",
      "Date                                      \n",
      "2015-07-31  0.024978  0.059137 -0.066210  \n",
      "2015-08-31 -0.005356 -0.059080  0.037072  \n",
      "2015-09-30  0.018325  0.033853 -0.018011  \n",
      "2015-10-30 -0.007765  0.057909  0.022834  \n",
      "2015-11-30 -0.003972 -0.006143 -0.067521  \n",
      "2015-12-31 -0.003612  0.022006 -0.004513  \n",
      "2016-01-29  0.037031 -0.040598  0.054110  \n",
      "2016-02-29  0.018574 -0.008531  0.109303  \n",
      "2016-03-31  0.001295  0.103587 -0.008429  \n",
      "2016-04-29 -0.003765 -0.029637  0.051088  \n",
      "2016-05-31  0.002910  0.019820 -0.061383  \n",
      "2016-06-30  0.041837  0.064575  0.089695  \n",
      "2016-07-29  0.007050  0.001307  0.015340  \n",
      "\n",
      "[[ 0.02258923 -0.06095013 -0.02551596  0.08505968  0.00365512 -0.01728249\n",
      "  -0.0497866  -0.00082595  0.06726603  0.00394121  0.01701155  0.00347589\n",
      "   0.00210045]\n",
      " [-0.02436741  0.05907779  0.02086172 -0.08040866 -0.00531406  0.01359888\n",
      "   0.04935306 -0.00228306 -0.06590391 -0.00489958 -0.01870995 -0.00501759\n",
      "  -0.00226929]\n",
      " [ 0.00106141 -0.05663824 -0.03198137  0.05552651  0.01336078 -0.04197232\n",
      "  -0.05538495  0.01237655  0.0848337   0.01191384  0.02245628  0.00466646\n",
      "   0.00202031]\n",
      " [-0.00288136 -0.05828934 -0.0453724   0.0567856   0.0179698  -0.04187301\n",
      "  -0.07546997  0.00772315  0.08463324  0.01766976  0.01886127  0.00334412\n",
      "   0.00302558]\n",
      " [-0.00288361 -0.07746334 -0.04031574  0.06685429 -0.01319258 -0.02517709\n",
      "  -0.05597789 -0.02440216  0.08302947  0.02108921 -0.00794377 -0.00732495\n",
      "   0.00303389]\n",
      " [ 0.00862167 -0.00335815  0.00811428  0.00068566 -0.00389069 -0.00191707\n",
      "   0.01240622  0.00887076  0.00874686  0.00254949  0.00013552  0.01935164\n",
      "   0.00215285]\n",
      " [ 0.02497824 -0.0053556   0.01832475 -0.00776495 -0.00397156 -0.00361246\n",
      "   0.03703141  0.01857384  0.00129486 -0.00376501  0.00291012  0.04183702\n",
      "   0.0070502 ]\n",
      " [ 0.05913731 -0.0590803   0.03385346  0.05790885 -0.0061431   0.02200571\n",
      "  -0.04059799 -0.00853144  0.10358667 -0.02963742  0.01982023  0.06457506\n",
      "   0.00130743]\n",
      " [-0.06620987  0.03707233 -0.01801139  0.02283363 -0.06752063 -0.00451333\n",
      "   0.05410997  0.10930343 -0.00842886  0.05108809 -0.06138297  0.08969501\n",
      "   0.01533963]]\n",
      "          SPY        SH       MDY        VB       VEU       AGG       TLH  \\\n",
      "SPY  1.000000 -0.999053  0.933775  0.924359  0.949354  0.022058 -0.279068   \n",
      "SH  -0.999053  1.000000 -0.934551 -0.925493 -0.945238 -0.025877  0.274740   \n",
      "MDY  0.933775 -0.934551  1.000000  0.990783  0.926807  0.056758 -0.276731   \n",
      "VB   0.924359 -0.925493  0.990783  1.000000  0.923808 -0.024249 -0.354269   \n",
      "VEU  0.949354 -0.945238  0.926807  0.923808  1.000000  0.047638 -0.312565   \n",
      "AGG  0.022058 -0.025877  0.056758 -0.024249  0.047638  1.000000  0.896864   \n",
      "TLH -0.279068  0.274740 -0.276731 -0.354269 -0.312565  0.896864  1.000000   \n",
      "RWR  0.758848 -0.771996  0.671005  0.635319  0.708130  0.379626  0.119252   \n",
      "GLD -0.216294  0.228510 -0.141484 -0.148594 -0.129018  0.461514  0.343302   \n",
      "\n",
      "          RWR       GLD  \n",
      "SPY  0.758848 -0.216294  \n",
      "SH  -0.771996  0.228510  \n",
      "MDY  0.671005 -0.141484  \n",
      "VB   0.635319 -0.148594  \n",
      "VEU  0.708130 -0.129018  \n",
      "AGG  0.379626  0.461514  \n",
      "TLH  0.119252  0.343302  \n",
      "RWR  1.000000 -0.268066  \n",
      "GLD -0.268066  1.000000  \n"
     ]
    },
    {
     "data": {
      "image/png": "[encoded data removed]",
      "text/plain": [
       "<matplotlib.figure.Figure at 0x7f054f838450>"
      ]
     },
     "metadata": {},
     "output_type": "display_data"
    }
   ],
   "source": [
    "# Input is a simple csv of exchange traded funds of interest\n",
    "df_etf = pd.read_csv('myetfs.csv')\n",
    "\n",
    "# input return data and build a dataframe\n",
    "startDate = '2015-06-30'\n",
    "endDate   = '2016-07-01'\n",
    "\n",
    "df_returns = pd.DataFrame()\n",
    "\n",
    "for idx, row in df_etf.iterrows():\n",
    "    df_sym = pd.DataFrame(web.get_data_yahoo(row['symbol'], start=startDate, end=endDate)['Adj Close'])\n",
    " \n",
    "    # return the last value in the period\n",
    "    period = 'BM'\n",
    "    df_sym_tser = df_sym.resample(period).apply(lambda x: x[-1])\n",
    "\n",
    "    print df_sym_tser\n",
    "    # percent change from period to period\n",
    "    df_sym_tser_chg = df_sym_tser.pct_change(periods=1)\n",
    "    df_sym_tser_chg.columns=[row['symbol']]\n",
    "\n",
    "    df_returns = df_returns.join(df_sym_tser_chg, how='outer')\n",
    "\n",
    "df_returns.dropna(axis=0, inplace=True)\n",
    "df_returns.to_csv('returns.csv')\n",
    "print '\\n', df_returns\n",
    "\n",
    "etf_returns = np.asarray([df_returns[col].values for col in df_returns.columns])\n",
    "print '\\n', etf_returns\n",
    "\n",
    "# Calculate correlation\n",
    "df_corr = df_returns.corr()\n",
    "print df_corr\n",
    "\n",
    "# Print correlation visualization\n",
    "plt.pcolor(df_corr)\n",
    "plt.yticks(np.arange(0.25, len(df_corr.index), 1), df_corr.index)\n",
    "plt.xticks(np.arange(0.25, len(df_corr.columns), 1), df_corr.columns)\n",
    "plt.show()"
   ]
  },
  {
   "cell_type": "code",
   "execution_count": 160,
   "metadata": {
    "collapsed": true
   },
   "outputs": [],
   "source": [
    "# create n random values that sum to 1\n",
    "def rand_weights(n):\n",
    "    k = np.random.rand(n)\n",
    "    return k / sum(k)\n"
   ]
  },
  {
   "cell_type": "code",
   "execution_count": 161,
   "metadata": {
    "collapsed": false
   },
   "outputs": [],
   "source": [
    "# Calculate the Expected Return and Risk for the passed returns\n",
    "# If asset weights are not passed, use random weights\n",
    "def portfolio_er(returns, weights):\n",
    "    p = np.asmatrix(np.mean(returns, axis=1))\n",
    "    \n",
    "    if weights.any():\n",
    "        w = np.asmatrix(weights)\n",
    "    else:\n",
    "        w = np.asmatrix(rand_weights(returns.shape[0]))\n",
    "    C = np.asmatrix(np.cov(returns))\n",
    "    \n",
    "    mu = w * p.T                      # portfolio expected return (ER)\n",
    "    sigma = np.sqrt(w * C * w.T)      # portfolio risk (SD)\n",
    "\n",
    "    if debug == True:\n",
    "        print 'stock returns (p):\\n', p\n",
    "        print 'stock weights (w):\\n', w\n",
    "        print 'covariance matrix (C):\\n', C\n",
    "        print 'portfolio expected return (mu):\\n', mu\n",
    "        print 'portfolio expected risk (sigma):\\n', sigma\n",
    "\n",
    "#    This recursion reduces outliers to keep plots pretty\n",
    "    if sigma > 2:\n",
    "        return portfolio_er(returns, weights)\n",
    "    return mu, sigma"
   ]
  },
  {
   "cell_type": "code",
   "execution_count": 162,
   "metadata": {
    "collapsed": false
   },
   "outputs": [
    {
     "data": {
      "text/plain": [
       "<matplotlib.text.Text at 0x7f483d11a410>"
      ]
     },
     "execution_count": 162,
     "metadata": {},
     "output_type": "execute_result"
    },
    {
     "data": {
      "image/png": "[encoded data removed]",
      "text/plain": [
       "<matplotlib.figure.Figure at 0x7f483d273190>"
      ]
     },
     "metadata": {},
     "output_type": "display_data"
    }
   ],
   "source": [
    "# Generate random portfolios\n",
    "debug = 0\n",
    "n_portfolios = 2000\n",
    "means, stds = np.column_stack([\n",
    "    portfolio_er(etf_returns, np.array([])) \n",
    "    for _ in xrange(n_portfolios)\n",
    "])\n",
    "\n",
    "# plot the random portfolios\n",
    "plt.plot(stds, means, 'o', markersize=5)\n",
    "plt.xlabel('std')\n",
    "plt.ylabel('mean')\n",
    "plt.title('ER(mean) and Risk(std) for random Portfolios')"
   ]
  },
  {
   "cell_type": "code",
   "execution_count": 163,
   "metadata": {
    "collapsed": false,
    "scrolled": true
   },
   "outputs": [
    {
     "name": "stdout",
     "output_type": "stream",
     "text": [
      "P:\n",
      "[ 3.25e-03 -4.98e-04 -3.32e-04 -3.82e-04  3.28e-04  1.81e-04]\n",
      "[-4.98e-04  1.63e-03  1.55e-03  1.68e-03 -1.89e-04  6.11e-06]\n",
      "[-3.32e-04  1.55e-03  1.69e-03  1.84e-03 -1.91e-04  1.60e-05]\n",
      "[-3.82e-04  1.68e-03  1.84e-03  2.03e-03 -2.67e-04 -7.50e-06]\n",
      "[ 3.28e-04 -1.89e-04 -1.91e-04 -2.67e-04  2.81e-04  1.03e-04]\n",
      "[ 1.81e-04  6.11e-06  1.60e-05 -7.50e-06  1.03e-04  4.71e-05]\n",
      "\n",
      "q:\n",
      "[ 1.18e-02]\n",
      "[ 3.90e-03]\n",
      "[ 1.71e-03]\n",
      "[-1.07e-03]\n",
      "[ 9.81e-03]\n",
      "[ 4.81e-03]\n",
      "\n",
      "G:\n",
      "[-1.00e+00 -0.00e+00 -0.00e+00 -0.00e+00 -0.00e+00 -0.00e+00]\n",
      "[-0.00e+00 -1.00e+00 -0.00e+00 -0.00e+00 -0.00e+00 -0.00e+00]\n",
      "[-0.00e+00 -0.00e+00 -1.00e+00 -0.00e+00 -0.00e+00 -0.00e+00]\n",
      "[-0.00e+00 -0.00e+00 -0.00e+00 -1.00e+00 -0.00e+00 -0.00e+00]\n",
      "[-0.00e+00 -0.00e+00 -0.00e+00 -0.00e+00 -1.00e+00 -0.00e+00]\n",
      "[-0.00e+00 -0.00e+00 -0.00e+00 -0.00e+00 -0.00e+00 -1.00e+00]\n",
      "\n",
      "h:\n",
      "[-5.00e-02]\n",
      "[-5.00e-02]\n",
      "[-5.00e-02]\n",
      "[-5.00e-02]\n",
      "[-5.00e-02]\n",
      "[-5.00e-02]\n",
      "\n",
      "A:\n",
      "[ 1.00e+00  1.00e+00  1.00e+00  1.00e+00  1.00e+00  1.00e+00]\n",
      "\n",
      "b:\n",
      "[ 1.00e+00]\n",
      "\n",
      "m1: \n",
      "[  3.44564922e+03  -4.44058533e+01   1.45237096e-01]\n",
      "x1: \n",
      "0.00649236977107\n",
      "weights:\n",
      "[[ 0.7499999 ]\n",
      " [ 0.05000002]\n",
      " [ 0.05000002]\n",
      " [ 0.05000001]\n",
      " [ 0.05000002]\n",
      " [ 0.05000003]]\n"
     ]
    }
   ],
   "source": [
    "def optimal_portfolio(returns, N=200):\n",
    "    n = len(returns)\n",
    "    \n",
    "    mus = [10**(5.0 * t/N - 1.0) for t in range(N)]\n",
    "   \n",
    "    P = opt.matrix(np.cov(returns))           # portfolio variance/covariance matrix\n",
    "    q = opt.matrix(np.mean(returns, axis=1))  # portfolio assets expected returns\n",
    "    \n",
    "    # Create default constraint matrices\n",
    "#     G = -opt.matrix(np.eye(n))   # default, negative n x n identity matrix\n",
    "#     h = opt.matrix(0.0, (n ,1))  # default, no constraints\n",
    "\n",
    "#     G = -opt.matrix(np.eye(n))   # default, negative n x n identity matrix\n",
    "    G = -opt.matrix(0.0, (n,n))\n",
    "    G[::n+1] = -1.0\n",
    "    \n",
    "    h = -opt.matrix(0.05, (n ,1))  # default, no constraints\n",
    "    \n",
    "    \n",
    "# AH HA!  for 3 stock portfolio only\n",
    "#     G = -opt.matrix([[1.0, 0.0, 0.0], [0.0, 1.0, 0.0], [0.0, 0.0, 1.0]])\n",
    "#     h = -opt.matrix([[0.05, 0.05, 0.05]])  # at least 5% in each stock\n",
    "  \n",
    "    # equality constraint Ax = b; captures the constraint sum(x) = 1\n",
    "    A = opt.matrix(1.0, (1, n))\n",
    "    b = opt.matrix(1.0)\n",
    "\n",
    "    if debug == True:\n",
    "        print 'P:\\n', P\n",
    "        print 'q:\\n', q\n",
    "        print 'G:\\n', G\n",
    "        print 'h:\\n', h\n",
    "        print 'A:\\n', A\n",
    "        print 'b:\\n', b\n",
    "    \n",
    "    # Calculate efficient frontier weights using quadratic programming\n",
    "    portfolios = [solvers.qp(mu*P, -q, G, h, A, b)['x'] for mu in mus]\n",
    "    \n",
    "    # Calculate risks and returns for the frontier\n",
    "    returns = [blas.dot(q, x) for x in portfolios]\n",
    "    risks = [np.sqrt(blas.dot(x, P*x)) for x in portfolios]\n",
    "    \n",
    "    # Calculate the 2nd degree (quadratic) polynomial of the frontier curve\n",
    "    m1 = np.polyfit(returns, risks, 2)\n",
    "    x1 = np.sqrt(m1[2] / m1[0])\n",
    "\n",
    "    # Calculate the optimal portfolio\n",
    "    wts = solvers.qp(opt.matrix(x1 * P), -q, G, h, A, b)['x']\n",
    "\n",
    "    if debug == True:\n",
    "        print 'm1: \\n', m1\n",
    "        print 'x1: \\n', x1\n",
    "    \n",
    "    return np.asarray(wts), returns, risks\n",
    "\n",
    "debug = 1\n",
    "weights, returns, risks = optimal_portfolio(etf_returns,N=200)\n",
    "print 'weights:\\n', weights\n",
    "# print '\\nreturns:\\n', returns\n",
    "# print '\\nrisks:\\n', risks\n"
   ]
  },
  {
   "cell_type": "code",
   "execution_count": 164,
   "metadata": {
    "collapsed": false
   },
   "outputs": [
    {
     "data": {
      "text/plain": [
       "<matplotlib.text.Text at 0x7f483cf269d0>"
      ]
     },
     "execution_count": 164,
     "metadata": {},
     "output_type": "execute_result"
    },
    {
     "data": {
      "image/png": "[encoded data removed]",
      "text/plain": [
       "<matplotlib.figure.Figure at 0x7f483d2385d0>"
      ]
     },
     "metadata": {},
     "output_type": "display_data"
    }
   ],
   "source": [
    "# plot\n",
    "plt.plot(stds, means, 'o')\n",
    "plt.xlabel('std')\n",
    "plt.ylabel('mean')\n",
    "plt.plot(risks, returns, 'y-o')\n",
    "plt.title('Efficient Frontier of Randomly Weighted Portfolios')"
   ]
  },
  {
   "cell_type": "code",
   "execution_count": 165,
   "metadata": {
    "collapsed": false
   },
   "outputs": [
    {
     "name": "stdout",
     "output_type": "stream",
     "text": [
      "[[ 0.7499999   0.05000002  0.05000002  0.05000001  0.05000002  0.05000003]]\n",
      "stock returns (p):\n",
      "[[ 0.01179808  0.00390293  0.00171069 -0.0010672   0.00981007  0.00480531]]\n",
      "stock weights (w):\n",
      "[[ 0.7499999   0.05000002  0.05000002  0.05000001  0.05000002  0.05000003]]\n",
      "covariance matrix (C):\n",
      "[[  3.24819170e-03  -4.97573987e-04  -3.31709627e-04  -3.81543950e-04\n",
      "    3.27743119e-04   1.80533197e-04]\n",
      " [ -4.97573987e-04   1.62924575e-03   1.55047318e-03   1.68095625e-03\n",
      "   -1.88686339e-04   6.11124120e-06]\n",
      " [ -3.31709627e-04   1.55047318e-03   1.69222252e-03   1.83624008e-03\n",
      "   -1.90688242e-04   1.60257064e-05]\n",
      " [ -3.81543950e-04   1.68095625e-03   1.83624008e-03   2.02976007e-03\n",
      "   -2.67358143e-04  -7.49794400e-06]\n",
      " [  3.27743119e-04  -1.88686339e-04  -1.90688242e-04  -2.67358143e-04\n",
      "    2.80591107e-04   1.03113045e-04]\n",
      " [  1.80533197e-04   6.11124120e-06   1.60257064e-05  -7.49794400e-06\n",
      "    1.03113045e-04   4.71086206e-05]]\n",
      "portfolio expected return (mu):\n",
      "[[ 0.00980665]]\n",
      "portfolio expected risk (sigma):\n",
      "[[ 0.04255945]]\n"
     ]
    },
    {
     "data": {
      "text/plain": [
       "(matrix([[ 0.00980665]]), matrix([[ 0.04255945]]))"
      ]
     },
     "execution_count": 165,
     "metadata": {},
     "output_type": "execute_result"
    }
   ],
   "source": [
    "print weights.T\n",
    "\n",
    "portfolio_er(etf_returns, weights.T)"
   ]
  },
  {
   "cell_type": "markdown",
   "metadata": {
    "collapsed": true
   },
   "source": [
    "## References"
   ]
  },
  {
   "cell_type": "markdown",
   "metadata": {},
   "source": [
    "https://web.archive.org/web/20150404034126/http://stanford.edu/~mwaskom/software/seaborn/tutorial/dataset_exploration.html\n",
    "\n",
    "\n",
    "http://stanford.edu/~mwaskom/software/seaborn-dev/generated/seaborn.heatmap.html\n"
   ]
  },
  {
   "cell_type": "markdown",
   "metadata": {
    "collapsed": true
   },
   "source": [
    "## Troubleshooting\n",
    "\n",
    "There are a couple of things that you can try:\n",
    "\n",
    "1) Check how your constraints are scaled and rescale if necessary (see e.g. https://groups.google.com/forum/#!topic/cvxopt/IstFuvQqXtM or https://groups.google.com/forum/#!topic/cvxopt/MeEq5Q1Har0).\n",
    "\n",
    "2) Change the default tolerances in the options dictionary (see http://cvxopt.org/userguide/coneprog.html#algorithm-parameters).\n",
    "\n",
    "If these suggestions do not help, I'd be happy to help if you can send me a problem instance."
   ]
  },
  {
   "cell_type": "code",
   "execution_count": null,
   "metadata": {
    "collapsed": true
   },
   "outputs": [],
   "source": []
  }
 ],
 "metadata": {
  "kernelspec": {
   "display_name": "Python 2",
   "language": "python",
   "name": "python2"
  },
  "language_info": {
   "codemirror_mode": {
    "name": "ipython",
    "version": 2
   },
   "file_extension": ".py",
   "mimetype": "text/x-python",
   "name": "python",
   "nbconvert_exporter": "python",
   "pygments_lexer": "ipython2",
   "version": "2.7.11"
  }
 },
 "nbformat": 4,
 "nbformat_minor": 0
}
